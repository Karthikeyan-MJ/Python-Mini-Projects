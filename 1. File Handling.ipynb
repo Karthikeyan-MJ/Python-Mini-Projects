{
 "cells": [
  {
   "cell_type": "markdown",
   "metadata": {},
   "source": [
    "## File reading"
   ]
  },
  {
   "cell_type": "code",
   "execution_count": 24,
   "metadata": {},
   "outputs": [
    {
     "name": "stdout",
     "output_type": "stream",
     "text": [
      "['Welcome,\\n', 'This is Karthik Work Folder']\n"
     ]
    }
   ],
   "source": [
    "try:\n",
    "    file = open(\"file Handling text.txt\", 'r')\n",
    "    print(file.readlines())\n",
    "    # file.readlines() # reads all the lines in the folder\n",
    "    # file.readline() # reads first line only\n",
    "    # file.readline(_) # limint of words in secondline + reads first line \n",
    "except FileNotFoundError:\n",
    "    print('Error : File Not Found')\n",
    "else:\n",
    "    file.close()"
   ]
  },
  {
   "cell_type": "markdown",
   "metadata": {},
   "source": [
    "**Alternate Method :- using For loop.**\n",
    " \n",
    "file = open(\"file Handling txt.txt\", 'r')\n",
    "\n",
    "**for i in file:**\n",
    "\n",
    "    print(i)"
   ]
  },
  {
   "cell_type": "markdown",
   "metadata": {},
   "source": [
    "## Write and Read mode:-"
   ]
  },
  {
   "cell_type": "code",
   "execution_count": 34,
   "metadata": {},
   "outputs": [
    {
     "name": "stdout",
     "output_type": "stream",
     "text": [
      "Welcome,\n",
      "This is Karthik Work Folder\n"
     ]
    }
   ],
   "source": [
    "try:\n",
    "    file = open(\"file Handling text.txt\", 'w')\n",
    "    file.write(\"Welcome,\\nThis is Karthik Work Folder\")\n",
    "    file.close()\n",
    "    \n",
    "    file = open(\"file Handling text.txt\", 'r')\n",
    "    print(file.read())\n",
    "except FileNotFoundError:\n",
    "    print('Error : File Not Found')\n",
    "else:\n",
    "    file.close()"
   ]
  },
  {
   "cell_type": "markdown",
   "metadata": {},
   "source": [
    "## Append  and Read Mode:-"
   ]
  },
  {
   "cell_type": "code",
   "execution_count": 35,
   "metadata": {},
   "outputs": [
    {
     "name": "stdout",
     "output_type": "stream",
     "text": [
      "Welcome,\n",
      "This is Karthik Work Folder\n",
      "in addition of words are included here\n"
     ]
    }
   ],
   "source": [
    "try:\n",
    "    file = open(\"file Handling text.txt\", 'a')\n",
    "    file.write('\\n''in addition of words are included here')\n",
    "    file.close()\n",
    "    \n",
    "    file = open('file handling text.txt', 'r')\n",
    "    print(file.read())\n",
    "except FileNotFoundError:\n",
    "    print('Error : File Not Found')\n",
    "else:\n",
    "    file.close()"
   ]
  },
  {
   "cell_type": "markdown",
   "metadata": {},
   "source": [
    "## Deleting File or Folder :-"
   ]
  },
  {
   "cell_type": "code",
   "execution_count": 36,
   "metadata": {},
   "outputs": [],
   "source": [
    "import os"
   ]
  },
  {
   "cell_type": "code",
   "execution_count": 37,
   "metadata": {},
   "outputs": [
    {
     "name": "stdout",
     "output_type": "stream",
     "text": [
      "File Not Found\n"
     ]
    }
   ],
   "source": [
    " if os.path.exists(\"test.txt\"):\n",
    "    os.remove('test.txt')\n",
    "    # os.rmdir('Folder Name') # it removes that Folder present\n",
    "else:\n",
    "    print('File Not Found')"
   ]
  }
 ],
 "metadata": {
  "kernelspec": {
   "display_name": "Python 3",
   "language": "python",
   "name": "python3"
  },
  "language_info": {
   "codemirror_mode": {
    "name": "ipython",
    "version": 3
   },
   "file_extension": ".py",
   "mimetype": "text/x-python",
   "name": "python",
   "nbconvert_exporter": "python",
   "pygments_lexer": "ipython3",
   "version": "3.8.3"
  }
 },
 "nbformat": 4,
 "nbformat_minor": 4
}
