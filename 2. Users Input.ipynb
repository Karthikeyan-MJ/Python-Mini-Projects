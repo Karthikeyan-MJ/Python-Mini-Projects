{
 "cells": [
  {
   "cell_type": "code",
   "execution_count": 1,
   "metadata": {},
   "outputs": [],
   "source": [
    "import sqlite3"
   ]
  },
  {
   "cell_type": "code",
   "execution_count": 2,
   "metadata": {},
   "outputs": [],
   "source": [
    "con = sqlite3.connect('users.db')"
   ]
  },
  {
   "cell_type": "code",
   "execution_count": 8,
   "metadata": {},
   "outputs": [],
   "source": [
    "def insertData(Name, Age, City):\n",
    "    qry = 'insert into users (Name, Age, City) values (?, ?, ?);'\n",
    "    con.execute(qry, (Name, Age, City))\n",
    "    con.commit() # commit - Database Changes will be saved.\n",
    "    print('User Details Added')\n",
    "    \n",
    "def updateData(Name, Age, City, ID):\n",
    "    qry = 'update users set Name=?, Age=?, City=? where ID=?;'\n",
    "    con.execute(qry, (Name, Age, City, ID))\n",
    "    con.commit()\n",
    "    print('User Details Updated')\n",
    "    \n",
    "def DeleteData(ID):\n",
    "    qry = 'delete * from users where ID=?;'\n",
    "    con.execute(qry, (ID))\n",
    "    con.commit\n",
    "    print('User Record Deleted')\n",
    "    \n",
    "def SelectData():\n",
    "    qry = 'select * from users;'\n",
    "    result = con.execute(qry)\n",
    "    for row in result:\n",
    "        print(row)"
   ]
  },
  {
   "cell_type": "code",
   "execution_count": 12,
   "metadata": {},
   "outputs": [
    {
     "name": "stdout",
     "output_type": "stream",
     "text": [
      "Enter Choice No.\n",
      "1. Insert\n",
      "2. Update\n",
      "3. Delete\n",
      "4. Select\n",
      "Enter your choice :- 4\n",
      "print all record\n",
      "(1, 'Karthik', 24, 'Chennai')\n",
      "(2, 'Niranjan', 26, 'Chennai')\n",
      "(3, 'jayanthi', 55, 'Chennai')\n",
      "(4, 'Divyan', 1, 'Thiruvallur')\n",
      "(5, 'Tarun', 4.5, 'Thiruvallur')\n",
      "(6, 'Janvi', 3.5, 'Trichy')\n",
      "(8, 'Srinika Sri', 0.3, 'Thiruvallur')\n",
      "\n",
      "Enter 1 to continue :- 0\n",
      "\n",
      "Thank You\n"
     ]
    }
   ],
   "source": [
    "print(\"\"\"Enter Choice No.\n",
    "1. Insert\n",
    "2. Update\n",
    "3. Delete\n",
    "4. Select\"\"\")\n",
    "\n",
    "ch = 1\n",
    "while ch==1:\n",
    "    c = int(input(('Enter your choice :- ')))\n",
    "    if (c==1):\n",
    "        print('Insert values in record')\n",
    "        Name = input('Enter Name :- ')\n",
    "        Age = input('Enter age :- ')\n",
    "        City = input('Enter City :- ')\n",
    "        insertData(Name, Age, City)\n",
    "    elif (c==2):\n",
    "        print('Update Values in record')\n",
    "        ID = input('Enter ID')\n",
    "        Name = input('Enter Name :- ')\n",
    "        Age = input('Enter age :- ')\n",
    "        City = input('Enter City :- ')\n",
    "        updateData(Name, Age, City, ID)\n",
    "    elif (c==3):\n",
    "        print('Delete a record')\n",
    "        ID = input('Enter ID :- ')\n",
    "        DeleteData(ID)\n",
    "    elif (c==4):\n",
    "        print('print all record')\n",
    "        SelectData()\n",
    "    else:\n",
    "        print('Invaid input')\n",
    "    ch = int(input('\\nEnter 1 to continue :- '))\n",
    "print('\\nThank You')"
   ]
  },
  {
   "cell_type": "code",
   "execution_count": null,
   "metadata": {},
   "outputs": [],
   "source": []
  }
 ],
 "metadata": {
  "kernelspec": {
   "display_name": "Python 3",
   "language": "python",
   "name": "python3"
  },
  "language_info": {
   "codemirror_mode": {
    "name": "ipython",
    "version": 3
   },
   "file_extension": ".py",
   "mimetype": "text/x-python",
   "name": "python",
   "nbconvert_exporter": "python",
   "pygments_lexer": "ipython3",
   "version": "3.8.3"
  }
 },
 "nbformat": 4,
 "nbformat_minor": 4
}
